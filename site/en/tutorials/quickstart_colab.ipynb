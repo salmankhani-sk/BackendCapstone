{
  "cells": [
    {
      "cell_type": "markdown",
      "metadata": {
        "id": "view-in-github",
        "colab_type": "text"
      },
      "source": [
        "<a href=\"https://colab.research.google.com/github/salmankhani-sk/BackendCapstone/blob/main/site/en/tutorials/quickstart_colab.ipynb\" target=\"_parent\"><img src=\"https://colab.research.google.com/assets/colab-badge.svg\" alt=\"Open In Colab\"/></a>"
      ]
    },
    {
      "cell_type": "markdown",
      "metadata": {
        "id": "Tce3stUlHN0L"
      },
      "source": [
        "##### Copyright 2024 Google LLC."
      ]
    },
    {
      "cell_type": "code",
      "execution_count": null,
      "metadata": {
        "id": "tuOe1ymfHZPu"
      },
      "outputs": [],
      "source": [
        "#@title Licensed under the Apache License, Version 2.0 (the \"License\");\n",
        "# you may not use this file except in compliance with the License.\n",
        "# You may obtain a copy of the License at\n",
        "#\n",
        "# https://www.apache.org/licenses/LICENSE-2.0\n",
        "#\n",
        "# Unless required by applicable law or agreed to in writing, software\n",
        "# distributed under the License is distributed on an \"AS IS\" BASIS,\n",
        "# WITHOUT WARRANTIES OR CONDITIONS OF ANY KIND, either express or implied.\n",
        "# See the License for the specific language governing permissions and\n",
        "# limitations under the License."
      ]
    },
    {
      "cell_type": "markdown",
      "metadata": {
        "id": "-QhPWE1lwZHH"
      },
      "source": [
        "# Gemini API Python quickstart"
      ]
    },
    {
      "cell_type": "markdown",
      "metadata": {
        "id": "fa7c47ae6451"
      },
      "source": [
        "<table class=\"tfo-notebook-buttons\" align=\"left\">\n",
        "  <td>\n",
        "    <a target=\"_blank\" href=\"https://ai.google.dev/tutorials/quickstart_colab\"><img src=\"https://ai.google.dev/static/site-assets/images/docs/notebook-site-button.png\" height=\"32\" width=\"32\" />View on Google AI</a>\n",
        "  </td>\n",
        "  <td>\n",
        "    <a target=\"_blank\" href=\"https://colab.research.google.com/github/google/generative-ai-docs/blob/main/site/en/tutorials/quickstart_colab.ipynb\"><img src=\"https://www.tensorflow.org/images/colab_logo_32px.png\" />Run in Google Colab</a>\n",
        "  </td>\n",
        "  <td>\n",
        "    <a target=\"_blank\" href=\"https://github.com/google/generative-ai-docs/blob/main/site/en/tutorials/quickstart_colab.ipynb\"><img src=\"https://www.tensorflow.org/images/GitHub-Mark-32px.png\" />View source on GitHub</a>\n",
        "  </td>\n",
        "</table>"
      ]
    },
    {
      "cell_type": "markdown",
      "metadata": {
        "id": "db29b8d4247e"
      },
      "source": [
        "This tutorial shows you how to get started with the Gemini API using the Python SDK."
      ]
    },
    {
      "cell_type": "markdown",
      "metadata": {
        "id": "NNNg43Ymw54e"
      },
      "source": [
        "## Prerequisites\n",
        "\n",
        "You can run this tutorial in Google Colab, which doesn't require additional environment configuration.\n",
        "\n",
        "Alternatively, to complete this quickstart locally, see the Python guidance in [Get started with the Gemini API](https://ai.google.dev/tutorials/quickstart)."
      ]
    },
    {
      "cell_type": "markdown",
      "metadata": {
        "id": "kHkHARdb1ZID"
      },
      "source": [
        "## Install the SDK\n",
        "\n",
        "The Python SDK for the Gemini API is contained in the [`google-generativeai`](https://pypi.org/project/google-generativeai/) package. Install the dependency using pip:"
      ]
    },
    {
      "cell_type": "code",
      "execution_count": 1,
      "metadata": {
        "id": "J6Pd9SFJ1yVi"
      },
      "outputs": [],
      "source": [
        "!pip install -q -U google-generativeai"
      ]
    },
    {
      "cell_type": "markdown",
      "metadata": {
        "id": "EeMCtmx9ykyx"
      },
      "source": [
        "## Set up your API key\n",
        "\n",
        "To use the Gemini API, you'll need an API key. If you don't already have one, create a key in Google AI Studio.\n",
        "\n",
        "<a class=\"button\" href=\"https://aistudio.google.com/app/apikey\" target=\"_blank\" rel=\"noopener noreferrer\">Get an API key</a>\n",
        "\n",
        "In Colab, add the key to the secrets manager under the \"🔑\" in the left panel. Give it the name `GOOGLE_API_KEY`. Then pass the key to the SDK:"
      ]
    },
    {
      "cell_type": "code",
      "execution_count": 3,
      "metadata": {
        "id": "HTiaTu6O1LRC"
      },
      "outputs": [],
      "source": [
        "# Import the Python SDK\n",
        "import google.generativeai as genai\n",
        "# Used to securely store your API key\n",
        "from google.colab import userdata\n",
        "\n",
        "GOOGLE_API_KEY=userdata.get('GEMINI_API_KEY')\n",
        "genai.configure(api_key=GOOGLE_API_KEY)"
      ]
    },
    {
      "cell_type": "markdown",
      "metadata": {
        "id": "CZPYk29o2No0"
      },
      "source": [
        "## Initialize the Generative Model\n",
        "\n",
        "Before you can make any API calls, you need to initialize the Generative Model."
      ]
    },
    {
      "cell_type": "code",
      "execution_count": 4,
      "metadata": {
        "id": "s-JqXcDe2hZ_"
      },
      "outputs": [],
      "source": [
        "model = genai.GenerativeModel('gemini-pro')"
      ]
    },
    {
      "cell_type": "markdown",
      "metadata": {
        "id": "nXxypzJH4MUl"
      },
      "source": [
        "## Generate text"
      ]
    },
    {
      "cell_type": "code",
      "execution_count": 5,
      "metadata": {
        "id": "j51mcrLD4Y2W",
        "outputId": "fa3c1e55-a9cd-40ce-d96d-479ff0e9ac62",
        "colab": {
          "base_uri": "https://localhost:8080/",
          "height": 297
        }
      },
      "outputs": [
        {
          "output_type": "stream",
          "name": "stdout",
          "text": [
            "In the quaint town of Willow Creek, nestled amidst rolling hills and whispering willows, there lived a curious girl named Anya. Days were filled with the hum of her imagination, always seeking a spark of wonder.\n",
            "\n",
            "One ordinary morning, as Anya skipped down the cobblestone streets to school, a peculiar sight caught her eye. Amidst a pile of forgotten belongings lay a battered leather backpack. Its worn clasps hinted at tales untold, and its faded canvas seemed to whisper secrets.\n",
            "\n",
            "Intrigued, Anya picked up the backpack and examined it more closely. To her astonishment, the zippers quivered slightly as if a hidden energy coursed through them. With trembling hands, she unzipped one compartment, revealing a shimmering kaleidoscope of colors.\n",
            "\n",
            "As Anya reached into the backpack, her fingers brushed against a smooth orb. Suddenly, a surge of warmth enveloped her, and the world around her shifted. The backpack became weightless in her hand, floating effortlessly beside her.\n",
            "\n",
            "With each step, the backpack whispered secrets into Anya's ear. It told her stories of distant lands, whispered forgotten legends, and taught her unknown languages. It became not only a companion but a catalyst for her imagination.\n",
            "\n",
            "Adventures once limited to her dreams now unfolded in reality. The backpack guided her through hidden paths in the nearby forest, revealing secret waterfalls and enchanted creatures. It granted her the ability to see the magic that lay beneath the surface of ordinary objects.\n",
            "\n",
            "Word of the magic backpack spread throughout the town. Children whispered tales of Anya's extraordinary journeys, and adults marveled at her newfound wisdom. But Anya knew that the true magic lay not in the backpack itself but in the boundless imagination it had unlocked within her.\n",
            "\n",
            "And so, Anya and her magic backpack became a symbol of hope and wonder in Willow Creek. Their adventures inspired others to embrace their own creativity, reminding them that the world was always filled with hidden possibilities, waiting to be discovered with an open mind and a touch of enchantment.\n"
          ]
        }
      ],
      "source": [
        "response = model.generate_content(\"Write a story about a magic backpack.\")\n",
        "print(response.text)"
      ]
    },
    {
      "cell_type": "code",
      "source": [
        "response =model.generate_content(\"Tell me about vison this , I want to create a project for my FYP the topic i choose for my FYP is Recipe generator , and when user login in the project the user should see a food recipe input field where the user can say i want to make a pizza so the generator should show the diiferennt images like chicken pizza , crown crust pizaa etc etc and when the user click on the selected image he the text should be generate by ai that how to make that kind of pizza also the youtube video link should show that if the user want to learn from video so he can do it..\")\n",
        "print(response.text)"
      ],
      "metadata": {
        "id": "ra2YdrSPwA_-",
        "outputId": "95f2bd4a-54c7-42d8-e261-dba6f8b81d22",
        "colab": {
          "base_uri": "https://localhost:8080/",
          "height": 662
        }
      },
      "execution_count": 6,
      "outputs": [
        {
          "output_type": "stream",
          "name": "stdout",
          "text": [
            "**Vision for Recipe Generator with Visual Input**\n",
            "\n",
            "**Project Overview:**\n",
            "\n",
            "The project aims to develop a recipe generator that allows users to input a food craving or desire, such as \"I want to make a pizza,\" and receive a tailored recipe based on their preferences and visually generated suggestions.\n",
            "\n",
            "**Key Features:**\n",
            "\n",
            "* **Visual Input:** Users can provide a food craving as a text input or upload an image of the desired dish.\n",
            "* **Image Generation:** The system generates various food images related to the user's input, such as different types of pizzas.\n",
            "* **Recipe Selection:** Users can select a preferred image from the generated ones, which triggers the generation of the corresponding recipe.\n",
            "* **Recipe Generation:** The system utilizes AI algorithms to generate detailed instructions on how to prepare the selected dish.\n",
            "* **Video Integration:** Users can access instructional YouTube videos related to the recipe if they prefer video-based learning.\n",
            "\n",
            "**Benefits:**\n",
            "\n",
            "* **User Convenience:** Enables users to easily find and prepare recipes that align with their cravings.\n",
            "* **Visual Inspiration:** Provides a visually engaging way to explore culinary options.\n",
            "* **Personalized Results:** Tailors recipes to user preferences by considering input and visual selections.\n",
            "* **Educational Value:** Integrates video content to facilitate comprehension and enhance cooking skills.\n",
            "\n",
            "**Project Steps:**\n",
            "\n",
            "1. **Data Collection:** Gather a dataset of food images and corresponding recipes.\n",
            "2. **Image Generation Model:** Train a model to generate food images based on text input or image similarity.\n",
            "3. **Recipe Generator Model:** Develop an AI model to generate recipes based on selected food images.\n",
            "4. **Video Integration:** Partner with YouTube or integrate an existing video search engine.\n",
            "5. **User Interface Design:** Create an intuitive user interface that facilitates visual input, image selection, and recipe generation.\n",
            "6. **Testing and Evaluation:** Conduct user testing to assess usability, accuracy, and user satisfaction.\n",
            "\n",
            "**Potential Applications:**\n",
            "\n",
            "* **Personalized Meal Planning:** Assist users in creating customized meal plans based on dietary preferences and cravings.\n",
            "* **Culinary Exploration:** Inspire culinary experimentation by showcasing a wide range of food options.\n",
            "* **Educational Tool:** Enhance culinary education by providing interactive and visually stimulating content.\n",
            "* **Recipe Sharing and Discovery:** Enable users to share recipes and discover new dishes through a community platform.\n"
          ]
        }
      ]
    },
    {
      "cell_type": "markdown",
      "metadata": {
        "id": "zUUAQS9u4biH"
      },
      "source": [
        "## What's next\n",
        "\n",
        "To learn more about working with the Gemini API, see the [Python tutorial](https://ai.google.dev/tutorials/python_quickstart).\n",
        "\n",
        "If you're new to generative AI models, you might want to look at the\n",
        "[concepts guide](https://ai.google.dev/docs/concepts) and the\n",
        "[Gemini API overview](https://ai.google.dev/docs/gemini_api_overview)."
      ]
    }
  ],
  "metadata": {
    "colab": {
      "name": "quickstart_colab.ipynb",
      "provenance": [],
      "include_colab_link": true
    },
    "kernelspec": {
      "display_name": "Python 3",
      "name": "python3"
    }
  },
  "nbformat": 4,
  "nbformat_minor": 0
}